{
 "cells": [
  {
   "cell_type": "markdown",
   "metadata": {},
   "source": [
    "<img src=\"http://imgur.com/1ZcRyrc.png\" style=\"float: left; margin: 20px; height: 55px\">\n",
    "\n",
    "# Project 1: Python Coding Exercises\n",
    "\n",
    "_Authors: Joseph Nelson (DC) _\n",
    "\n",
    "---"
   ]
  },
  {
   "cell_type": "markdown",
   "metadata": {},
   "source": [
    "The following code challenges are drawn from common exercises used in technical interviews.\n",
    "\n",
    "Please note that there may be several ways to approach each challenge. If you get stuck, try mapping out your approach in pseudocode first. Finally, while solutions to problems like these may be found online, remember that if you copy/paste code that you can't explain, you'll be missing out on the point of the project. The only way to truly learn a new skill is through practice, trial, and error - we can only help you improve by understanding where you are having trouble."
   ]
  },
  {
   "cell_type": "markdown",
   "metadata": {},
   "source": [
    "### Challenge 1: Largest Palindrome\n",
    "A palindromic number reads the same both ways. For example, 1234321 is a palindrome. The largest palindrome made from the product of two two-digit numbers is 9009 = 91 × 99. Find the largest palindrome made from the product of two three-digit numbers. Afterward, write a brief explanation walking through your code's logic in markdown."
   ]
  },
  {
   "cell_type": "code",
   "execution_count": 124,
   "metadata": {},
   "outputs": [
    {
     "data": {
      "text/plain": [
       "94149"
      ]
     },
     "execution_count": 124,
     "metadata": {},
     "output_type": "execute_result"
    }
   ],
   "source": [
    "def is_palindrome(number):# function defintion \n",
    "    temp = number # store original for validation against its reversed form\n",
    "    reverse = 0 # define and initilise variable to store the reveresed order of the original number \n",
    "    while(number > 0): # reverse the order of the given number \n",
    "        last_digit = number % 10 # take last digit\n",
    "        reverse = reverse * 10 + last_digit # add last digit here\n",
    "        number = number // 10 # remove last digit \n",
    "    if(temp == reverse): # check if the reveresed order (e.g., number) equals the original one  \n",
    "        return True # if so, return True\n",
    "    else: \n",
    "        return False # else, return False\n",
    "\n",
    "two_digits = [9, 99] # two digit min and max \n",
    "three_digits = [99, 999] # three digit min and max  \n",
    "palindrome = 0 # initilizing a varibale to store the greatest palindrome value.\n",
    "palindromes = [] # list to store palindrome values and their factors\n",
    "\n",
    "for two_digit_val in range(two_digits[1], two_digits[0], -1): # for each two-digit number\n",
    "    for three_digit_val in range(three_digits[1], three_digits[0], -1): # go over three-digit number\n",
    "        result = two_digit_val * three_digit_val # mutiply values \n",
    "        if is_palindrome(result): # check if palindrome \n",
    "            palindromes.append([two_digit_val, three_digit_val, result]) # stor value in the palindromes list\n",
    "            if result > palindrome: # if current palindrome value is greater than the previous one\n",
    "                palindrome = result # replace value of variable     \n",
    "palindrome # print"
   ]
  },
  {
   "cell_type": "markdown",
   "metadata": {},
   "source": [
    "### Solution Explaination \n",
    "\n",
    "I have decided to loop over the two-digit list and mutiply each number by all numbers in the three-digits list. The result is the checked if it is palindrome or not and stored in a variable if it's greater than the previous palindrome value.\n",
    "\n",
    "**Assumpution:** *starting from the top is more effecient as the greatest value is likely to be found among greater values. unfortunately, I was't able to find the logic that allows to consume less computing power. In other words, this solution takes the same computing power as if I started from the bottom. If you have any thoughts, please let me know.*\n",
    "\n",
    "#### Pseudo Code:\n",
    "**palindrome Function**\n",
    "- store the original value in a temporary variable (for validation) \n",
    "- initilize a reversed-number varible\n",
    "\n",
    "**while Loop**\n",
    "\n",
    "        while the original number is greater than zero\n",
    "        take the reminder of division 10 (e.g., last digit)\n",
    "        mutiply the reversed-number by ten (e.g., push digit to the left) and add the remainder to it (e.g., added value takes the same place if the prvious one is zero, or becomes the next digit to the right if it's greater than zero)\n",
    "        take the integer of dividing the original number by 10 (e.g., remove last digit)\n",
    "\n",
    "- compare the reversed-number with the original one\n",
    "- return true if they are equals \n",
    "\n",
    "**Calculating the geatest two three-digit palindrome**\n",
    "\n",
    "- set starting and end points for two-digit number\n",
    "- set starting and end points for three-digit number\n",
    "- define a variable to store the largest palindrome value\n",
    "\n",
    "**For-each Loop**\n",
    "\n",
    "    for each two-digit value:\n",
    "    mutiply by three-digit values\n",
    "    check if the number is palindrome\n",
    "    if so:\n",
    "        check if it's larger than the its previous one\n",
    "        if so:\n",
    "            store its value in a variable\n",
    "    else:\n",
    "        Continue\n",
    "- print palindrome variable\n",
    "    \n"
   ]
  },
  {
   "cell_type": "markdown",
   "metadata": {},
   "source": [
    "\n",
    "### Challenge 2: Summation of Primes\n",
    "The sum of the primes below 10 is 2 + 3 + 5 + 7 = 17. Find the sum of all the primes below 2,000. Afterward, write a brief explanation walking through your code's logic in markdown."
   ]
  },
  {
   "cell_type": "code",
   "execution_count": 125,
   "metadata": {},
   "outputs": [
    {
     "data": {
      "text/plain": [
       "277050"
      ]
     },
     "execution_count": 125,
     "metadata": {},
     "output_type": "execute_result"
    }
   ],
   "source": [
    "def is_prime(number):# function defintion  \n",
    "    if number >= 2: # if given number is greater or equels to 2\n",
    "        for val in range(2, number): # for each value in the range of 2 to the given constraint\n",
    "            if not (number % val): # if it's not a prime (result equels to zero)\n",
    "                return False # return false \n",
    "    else: # if given number is less than 2\n",
    "        return False # return false \n",
    "    return True # number is prime if it passes the above test (greater than two and not ) \n",
    "\n",
    "total = 0 # initilize variable to store the total\n",
    "for val in range(0, 2000): # for each value in the range of 0 to 2000\n",
    "    if is_prime(val): # check if it's prime\n",
    "        total+=val # if so, add to the total \n",
    "        \n",
    "total"
   ]
  },
  {
   "cell_type": "markdown",
   "metadata": {},
   "source": [
    "### Solution Explaination \n",
    "\n",
    "For each number in range between 0 and 2000 (e.g., constraint), I check if it's a prime. If so, it gets added to the total value of prime numbers.\n",
    "\n",
    "#### Pseudo Code:\n",
    "**is_prime Function**\n",
    "\n",
    "        check if the given number is greater then 2\n",
    "            if the remaining value of division is zero (not prime)\n",
    "                return false\n",
    "        number is prime if it passes the above tests\n",
    "    \n",
    "**calculating the total**\n",
    "\n",
    "- initilize a variable to hold the total value.\n",
    "\n",
    "        for each value in the range of 0 to 2000\n",
    "        check if it's prime using the is_prime function \n",
    "            if so, add its value to the total\n",
    "            \n",
    "- print total\n"
   ]
  },
  {
   "cell_type": "markdown",
   "metadata": {},
   "source": [
    "### Challenge 3: Multiples of 3 and 5\n",
    "If we list all of the natural numbers below 10 that are multiples of 3 or 5, we get 3, 5, 6, and 9. The sum of these multiples is 23. Find the sum of all the multiples of 3 and 5 below 1,000. Afterward, write a brief explanation walking through your code's logic in markdown."
   ]
  },
  {
   "cell_type": "code",
   "execution_count": 126,
   "metadata": {},
   "outputs": [
    {
     "data": {
      "text/plain": [
       "266333"
      ]
     },
     "execution_count": 126,
     "metadata": {},
     "output_type": "execute_result"
    }
   ],
   "source": [
    "def get_mutipliers_total(multipliers, constraint):\n",
    "    total = 0 # initilize variable for total values\n",
    "    for multiplier in multipliers: # for 3 and 5\n",
    "        for val in range(constraint): # take every value below the given constraint\n",
    "            result = multiplier * val # mutiply them\n",
    "            if result < constraint: # if the result is less than the given constrain \n",
    "                total += result # add to the total\n",
    "    return total # return total\n",
    "\n",
    "multipliers = [3, 5] # specify numbers of mutiplication\n",
    "constraint = 1000 # set constraint \n",
    "total = get_mutipliers_total(multipliers, constraint) # pass multipliers, constraint to calculate the total\n",
    "\n",
    "total # print"
   ]
  },
  {
   "cell_type": "markdown",
   "metadata": {},
   "source": [
    "### Solution Explaination \n",
    "\n",
    "Each number within the range of the given constrains is mutiplied by 3 and 5. If the result is less than the given constraint, the result is added to the total.\n",
    "\n",
    "#### Pseudo Code:\n",
    "\n",
    "**function**\n",
    "- initilize a variable to store the total\n",
    "\n",
    "        for each mutiplyer\n",
    "            mutiply by every number within the given constraint\n",
    "                if the result is less than the given constraint\n",
    "                    add the result to the total variable\n",
    "         return total\n",
    "\n",
    "**calculatin the total**\n",
    "\n",
    "- initlilze a list of the specifed mutiplyers\n",
    "- initilize a variable for the given constraint\n",
    "- pass the above as arguments to the get_mutipliers_total function parameters.\n",
    "- print"
   ]
  },
  {
   "cell_type": "markdown",
   "metadata": {},
   "source": [
    "### Challenge 4: String Compressor\n",
    "Implement a method to perform basic string compression using the counts of repeated characters. (This is called run-length encoding.) For example, the string \"aabcccccaaa\" would become a2b1c5a3. If the “compressed” string would not become smaller than the original string, your method should return the original string. You can assume the string has only uppercase and lowercase letters (a–z). Specify whether your solution is case sensitive or case insensitive and what you would need to change to make it the other. Afterward, write a brief explanation walking through your code's logic in markdown."
   ]
  },
  {
   "cell_type": "code",
   "execution_count": 127,
   "metadata": {},
   "outputs": [
    {
     "name": "stdout",
     "output_type": "stream",
     "text": [
      "abcd\n",
      "a2b3c3d3\n"
     ]
    }
   ],
   "source": [
    "def compress(string): # function defintion \n",
    "    string = string.lower() # changing case letter to lower\n",
    "    newString = \"\" # initilizing a new variable to hold the compressed version of the original\n",
    "    counter = 1 # intaniate a counter\n",
    "    for i in range(len(string)): # for each letter in the given string \n",
    "        try: # deals with last index letter (see except statement)\n",
    "            if string[i] == string[i+1]: # if the current letter is the same as its next one\n",
    "                counter = counter+1 # increase counter by 1\n",
    "            else: # if the current letter is different than its next one (last letter in a sequence or a single letter)\n",
    "                newString += string[i] # append the current letter to a string\n",
    "                newString += str(counter) # append its' count\n",
    "                counter = 1 # reset the counter to 1\n",
    "        except: \n",
    "            if i == len(string)-1: # for last index letter\n",
    "                newString += string[i] # append last letter\n",
    "                newString += str(counter) # append its count \n",
    "    if len(string) < len(newString): # compare the length of the original and compressed strings\n",
    "        return string # if original is shorter, return original\n",
    "    return newString # else, return compressed\n",
    "\n",
    "\n",
    "# original shorter than compressed \n",
    "string = \"abcd\"\n",
    "newString = compress(string)\n",
    "print(newString)\n",
    "\n",
    "# compressed shorter than original \n",
    "string = \"aaBBbcccddd\"\n",
    "newString2 = compress(string)\n",
    "print(newString2)"
   ]
  },
  {
   "cell_type": "markdown",
   "metadata": {},
   "source": [
    "### Solution Explaination \n",
    "\n",
    "The compress function takes a string and calculates the frequecny of each letter and generate a new string with each letter that occured in the original one and its frequency count. It then compares the length of the original string with the compresed one. It returns the shorter one.\n",
    "\n",
    "#### Pseudo Code:\n",
    "\n",
    "**compression function**\n",
    "\n",
    "- set letters case to lower\n",
    "- initiate a variable to hold the string compression  \n",
    "- initilise counter\n",
    "\n",
    "        for each letter\n",
    "            check if it's the same as its' next one\n",
    "                increase counter \n",
    "            check if letter is not identical to its' next one\n",
    "                add to compressed string\n",
    "                append its' count\n",
    "                reset counter\n",
    "        return shorter one"
   ]
  },
  {
   "cell_type": "markdown",
   "metadata": {},
   "source": [
    "### *BONUS* Challenge: FizzBuzz\n",
    "Write a program that prints all of the numbers from 1 to 100. For multiples of 3, instead of the number, print \"Fizz;\" for multiples of 5, print \"Buzz.\" For numbers that are multiples of both 3 and 5, print \"FizzBuzz.\" Afterward, write a brief explanation walking through your code's logic in markdown."
   ]
  },
  {
   "cell_type": "code",
   "execution_count": 128,
   "metadata": {
    "scrolled": true
   },
   "outputs": [
    {
     "name": "stdout",
     "output_type": "stream",
     "text": [
      "1\n",
      "2\n",
      "Fizz;\n",
      "4\n",
      "Buzz.\n",
      "Fizz;\n",
      "7\n",
      "8\n",
      "Fizz;\n",
      "Buzz.\n",
      "11\n",
      "Fizz;\n",
      "13\n",
      "14\n",
      "FizzBuzz.\n",
      "16\n",
      "17\n",
      "Fizz;\n",
      "19\n",
      "Buzz.\n",
      "Fizz;\n",
      "22\n",
      "23\n",
      "Fizz;\n",
      "Buzz.\n",
      "26\n",
      "Fizz;\n",
      "28\n",
      "29\n",
      "FizzBuzz.\n",
      "31\n",
      "32\n",
      "Fizz;\n",
      "34\n",
      "Buzz.\n",
      "Fizz;\n",
      "37\n",
      "38\n",
      "Fizz;\n",
      "Buzz.\n",
      "41\n",
      "Fizz;\n",
      "43\n",
      "44\n",
      "FizzBuzz.\n",
      "46\n",
      "47\n",
      "Fizz;\n",
      "49\n",
      "Buzz.\n",
      "Fizz;\n",
      "52\n",
      "53\n",
      "Fizz;\n",
      "Buzz.\n",
      "56\n",
      "Fizz;\n",
      "58\n",
      "59\n",
      "FizzBuzz.\n",
      "61\n",
      "62\n",
      "Fizz;\n",
      "64\n",
      "Buzz.\n",
      "Fizz;\n",
      "67\n",
      "68\n",
      "Fizz;\n",
      "Buzz.\n",
      "71\n",
      "Fizz;\n",
      "73\n",
      "74\n",
      "FizzBuzz.\n",
      "76\n",
      "77\n",
      "Fizz;\n",
      "79\n",
      "Buzz.\n",
      "Fizz;\n",
      "82\n",
      "83\n",
      "Fizz;\n",
      "Buzz.\n",
      "86\n",
      "Fizz;\n",
      "88\n",
      "89\n",
      "FizzBuzz.\n",
      "91\n",
      "92\n",
      "Fizz;\n",
      "94\n",
      "Buzz.\n",
      "Fizz;\n",
      "97\n",
      "98\n",
      "Fizz;\n",
      "Buzz.\n"
     ]
    }
   ],
   "source": [
    "for val in range(1, 101): # loop over values from 1 to 100\n",
    "    if val%3 == 0 and val%5 ==0: # check if it's dividable by 3 and 5\n",
    "        print(\"FizzBuzz.\") # if so, print FizzBuzz\n",
    "    elif val%3 == 0: # else, check if it's dividable by 3\n",
    "        print(\"Fizz;\") # if so, print Fizz \n",
    "    elif val%5 ==0: # else, check if it's dividable by 5\n",
    "        print(\"Buzz.\") # if so, print Buzz \n",
    "    else: # if none of the above is true\n",
    "        print(val) # print value"
   ]
  },
  {
   "cell_type": "markdown",
   "metadata": {},
   "source": [
    "### Solution Explaination \n",
    "\n",
    "*#orderMatters*"
   ]
  }
 ],
 "metadata": {
  "anaconda-cloud": {},
  "kernelspec": {
   "display_name": "Python 3",
   "language": "python",
   "name": "python3"
  },
  "language_info": {
   "codemirror_mode": {
    "name": "ipython",
    "version": 3
   },
   "file_extension": ".py",
   "mimetype": "text/x-python",
   "name": "python",
   "nbconvert_exporter": "python",
   "pygments_lexer": "ipython3",
   "version": "3.7.1"
  }
 },
 "nbformat": 4,
 "nbformat_minor": 2
}
